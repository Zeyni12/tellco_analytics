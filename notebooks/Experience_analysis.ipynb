{
 "cells": [
  {
   "cell_type": "code",
   "execution_count": 1,
   "metadata": {},
   "outputs": [],
   "source": [
    "from dotenv import load_dotenv\n",
    "import pandas as pd\n",
    "import matplotlib.pyplot as plt\n",
    "import seaborn as sns\n",
    "import numpy as np\n",
    "from sklearn.preprocessing import StandardScaler\n",
    "from sklearn.cluster import KMeans "
   ]
  },
  {
   "cell_type": "code",
   "execution_count": 2,
   "metadata": {},
   "outputs": [],
   "source": [
    "# notebooks/example_notebook.ipynb\n",
    "\n",
    "import sys\n",
    "import os\n",
    "sys.path.append(os.path.abspath('../scripts'))"
   ]
  },
  {
   "cell_type": "code",
   "execution_count": 3,
   "metadata": {},
   "outputs": [],
   "source": [
    "from load_data import load_data_from_postgres, load_data_using_sqlalchemy\n",
    "from sql_queries import execute_telecom_queries\n"
   ]
  },
  {
   "cell_type": "code",
   "execution_count": 4,
   "metadata": {},
   "outputs": [],
   "source": [
    "# Load environment variables from .env file\n",
    "import os\n",
    "from dotenv import load_dotenv\n",
    "load_dotenv()\n",
    "\n",
    "# Fetch database connection parameters from environment variables\n",
    "DB_HOST = os.getenv(\"DB_HOST\")\n",
    "DB_PORT = os.getenv(\"DB_PORT\")\n",
    "DB_NAME = os.getenv(\"DB_NAME\")\n",
    "DB_USER = os.getenv(\"DB_USER\")\n",
    "DB_PASSWORD = os.getenv(\"DB_PASSWORD\")"
   ]
  },
  {
   "cell_type": "code",
   "execution_count": 5,
   "metadata": {},
   "outputs": [
    {
     "name": "stderr",
     "output_type": "stream",
     "text": [
      "c:\\Users\\hp\\kifiya_10_acadamy\\kifiya_week2_assignment\\scripts\\load_data.py:38: UserWarning: pandas only supports SQLAlchemy connectable (engine/connection) or database string URI or sqlite3 DBAPI2 connection. Other DBAPI2 objects are not tested. Please consider using SQLAlchemy.\n",
      "  df = pd.read_sql_query(query, connection)\n"
     ]
    },
    {
     "name": "stdout",
     "output_type": "stream",
     "text": [
      "Successfully loaded the data\n"
     ]
    }
   ],
   "source": [
    "# Define your SQL query\n",
    "query = \"SELECT * FROM xdr_data;\"  # Replace with your actual table name\n",
    "\n",
    "# Load data from PostgreSQL\n",
    "df = load_data_from_postgres(query)\n",
    "\n",
    "# Display the first few rows of the dataframe\n",
    "if df is not None:\n",
    "    print(\"Successfully loaded the data\")\n",
    "else:\n",
    "    print(\"Failed to load data.\")\n"
   ]
  },
  {
   "cell_type": "code",
   "execution_count": 6,
   "metadata": {},
   "outputs": [
    {
     "name": "stderr",
     "output_type": "stream",
     "text": [
      "C:\\Users\\hp\\AppData\\Local\\Temp\\ipykernel_4892\\815334861.py:9: FutureWarning: A value is trying to be set on a copy of a DataFrame or Series through chained assignment using an inplace method.\n",
      "The behavior will change in pandas 3.0. This inplace method will never work because the intermediate object on which we are setting values always behaves as a copy.\n",
      "\n",
      "For example, when doing 'df[col].method(value, inplace=True)', try using 'df.method({col: value}, inplace=True)' or df[col] = df[col].method(value) instead, to perform the operation inplace on the original object.\n",
      "\n",
      "\n",
      "  df[\"TCP Retransmission\"].fillna(df[\"TCP Retransmission\"].mean(), inplace=True)\n",
      "C:\\Users\\hp\\AppData\\Local\\Temp\\ipykernel_4892\\815334861.py:10: FutureWarning: A value is trying to be set on a copy of a DataFrame or Series through chained assignment using an inplace method.\n",
      "The behavior will change in pandas 3.0. This inplace method will never work because the intermediate object on which we are setting values always behaves as a copy.\n",
      "\n",
      "For example, when doing 'df[col].method(value, inplace=True)', try using 'df.method({col: value}, inplace=True)' or df[col] = df[col].method(value) instead, to perform the operation inplace on the original object.\n",
      "\n",
      "\n",
      "  df[\"RTT\"].fillna(df[\"RTT\"].mean(), inplace=True)\n",
      "C:\\Users\\hp\\AppData\\Local\\Temp\\ipykernel_4892\\815334861.py:11: FutureWarning: A value is trying to be set on a copy of a DataFrame or Series through chained assignment using an inplace method.\n",
      "The behavior will change in pandas 3.0. This inplace method will never work because the intermediate object on which we are setting values always behaves as a copy.\n",
      "\n",
      "For example, when doing 'df[col].method(value, inplace=True)', try using 'df.method({col: value}, inplace=True)' or df[col] = df[col].method(value) instead, to perform the operation inplace on the original object.\n",
      "\n",
      "\n",
      "  df[\"Handset Type\"].fillna(df[\"Handset Type\"].mode()[0], inplace=True)\n",
      "C:\\Users\\hp\\AppData\\Local\\Temp\\ipykernel_4892\\815334861.py:12: FutureWarning: A value is trying to be set on a copy of a DataFrame or Series through chained assignment using an inplace method.\n",
      "The behavior will change in pandas 3.0. This inplace method will never work because the intermediate object on which we are setting values always behaves as a copy.\n",
      "\n",
      "For example, when doing 'df[col].method(value, inplace=True)', try using 'df.method({col: value}, inplace=True)' or df[col] = df[col].method(value) instead, to perform the operation inplace on the original object.\n",
      "\n",
      "\n",
      "  df[\"Throughput\"].fillna(df[\"Throughput\"].mean(), inplace=True)\n"
     ]
    },
    {
     "name": "stdout",
     "output_type": "stream",
     "text": [
      "        MSISDN/Number  Avg_TCP_Retransmission     Avg_RTT  \\\n",
      "0        3.360100e+10            2.571697e+07   46.000000   \n",
      "1        3.360100e+10            2.571697e+07   31.000000   \n",
      "2        3.360100e+10            2.571697e+07  127.024885   \n",
      "3        3.360101e+10            2.571697e+07   84.000000   \n",
      "4        3.360101e+10            1.754390e+07   59.500000   \n",
      "...               ...                     ...         ...   \n",
      "106851   3.379000e+10            2.180450e+05   52.000000   \n",
      "106852   3.379000e+10            2.571697e+07   40.000000   \n",
      "106853   3.197021e+12            2.571697e+07  127.024885   \n",
      "106854   3.370000e+14            2.571697e+07  127.024885   \n",
      "106855   8.823971e+14            2.571697e+07  127.024885   \n",
      "\n",
      "                            Handset_Type  Avg_Throughput  \n",
      "0         Huawei P20 Lite Huawei Nova 3E       76.000000  \n",
      "1                 Apple iPhone 7 (A1778)       99.000000  \n",
      "2                              undefined       97.000000  \n",
      "3                Apple iPhone 5S (A1457)      248.000000  \n",
      "4                Apple iPhone Se (A1723)     7566.737287  \n",
      "...                                  ...             ...  \n",
      "106851               Huawei Honor 9 Lite    10365.000000  \n",
      "106852       Apple iPhone 8 Plus (A1897)      116.000000  \n",
      "106853  Quectel Wireless. Quectel Ec25-E        1.000000  \n",
      "106854                  Huawei B525S-23A       33.000000  \n",
      "106855  Quectel Wireless. Quectel Ec21-E        2.000000  \n",
      "\n",
      "[106856 rows x 5 columns]\n"
     ]
    }
   ],
   "source": [
    "\n",
    "\n",
    "df['TCP Retransmission'] = df['TCP DL Retrans. Vol (Bytes)'] + df['TCP UL Retrans. Vol (Bytes)']\n",
    "df['RTT'] = df['Avg RTT DL (ms)'] + df['Avg RTT UL (ms)'] \n",
    "df['Throughput'] = df['Avg Bearer TP DL (kbps)'] + df['Avg Bearer TP UL (kbps)']\n",
    "\n",
    "# Handle missing values\n",
    "df[\"TCP Retransmission\"].fillna(df[\"TCP Retransmission\"].mean(), inplace=True)\n",
    "df[\"RTT\"].fillna(df[\"RTT\"].mean(), inplace=True)\n",
    "df[\"Handset Type\"].fillna(df[\"Handset Type\"].mode()[0], inplace=True)\n",
    "df[\"Throughput\"].fillna(df[\"Throughput\"].mean(), inplace=True)\n",
    "\n",
    "# Handle outliers using IQR method\n",
    "for col in [\"TCP Retransmission\", \"RTT\", \"Throughput\"]:\n",
    "    Q1 = df[col].quantile(0.25)\n",
    "    Q3 = df[col].quantile(0.75)\n",
    "    IQR = Q3 - Q1\n",
    "    lower_bound = Q1 - 1.5 * IQR\n",
    "    upper_bound = Q3 + 1.5 * IQR\n",
    "    # Replace outliers with mean\n",
    "    df[col] = np.where((df[col] < lower_bound) | (df[col] > upper_bound), df[col].mean(), df[col])\n",
    "\n",
    "# Aggregate metrics per customer\n",
    "aggregated_df = df.groupby(\"MSISDN/Number\").agg(\n",
    "    Avg_TCP_Retransmission=(\"TCP Retransmission\", \"mean\"),\n",
    "    Avg_RTT=(\"RTT\", \"mean\"),\n",
    "    Handset_Type=(\"Handset Type\", lambda x: x.mode()[0]),\n",
    "    Avg_Throughput=(\"Throughput\", \"mean\")\n",
    ").reset_index()\n",
    "\n",
    "# Output the aggregated DataFrame\n",
    "print(aggregated_df)\n"
   ]
  },
  {
   "cell_type": "code",
   "execution_count": 12,
   "metadata": {},
   "outputs": [
    {
     "name": "stdout",
     "output_type": "stream",
     "text": [
      "\n",
      "--- TCP Retransmission ---\n",
      "Top 10 TCP Retransmission: [56212033. 56202254. 56199084. 56195532. 56185212. 56176107. 56164100.\n",
      " 56148826. 56144622. 56142569.]\n",
      "Bottom 10 TCP Retransmission: [ 86.  97. 106. 108. 113. 128. 129. 134. 134. 143.]\n",
      "Most Frequent TCP Retransmission: [2.57169663e+07 2.57169663e+07 2.66000000e+03 5.32000000e+03\n",
      " 6.65000000e+03 3.99000000e+03 7.98000000e+03 1.87300000e+03\n",
      " 2.64800000e+03 1.59600000e+04]\n",
      "\n",
      "--- RTT ---\n",
      "Top 10 RTT: [257. 257. 257. 257. 257. 257. 257. 257. 257. 257.]\n",
      "Bottom 10 RTT: [0. 0. 0. 0. 2. 4. 4. 5. 6. 6.]\n",
      "Most Frequent RTT: [127.02488519 127.02488519  29.          39.          38.\n",
      "  40.          30.          28.          49.          41.        ]\n",
      "\n",
      "--- Throughput ---\n",
      "Top 10 Throughput: [55732. 55732. 55731. 55726. 55724. 55721. 55718. 55715. 55713. 55708.]\n",
      "Bottom 10 Throughput: [0. 0. 0. 0. 0. 0. 0. 0. 0. 0.]\n",
      "Most Frequent Throughput: [1.50704746e+04 6.30000000e+01 1.50000000e+01 9.70000000e+01\n",
      " 9.00000000e+01 9.80000000e+01 9.60000000e+01 9.90000000e+01\n",
      " 8.90000000e+01 9.10000000e+01]\n"
     ]
    }
   ],
   "source": [
    "# Compute top 10, bottom 10, and most frequent values for specified metrics\n",
    "\n",
    "# Function to compute top, bottom, and most frequent values\n",
    "def compute_statistics(column, name):\n",
    "    top_10 = column.nlargest(10).values\n",
    "    bottom_10 = column.nsmallest(10).values\n",
    "    most_frequent = column.value_counts().head(10).index.values\n",
    "    return {\n",
    "        f\"Top 10 {name}\": top_10,\n",
    "        f\"Bottom 10 {name}\": bottom_10,\n",
    "        f\"Most Frequent {name}\": most_frequent,\n",
    "    }\n",
    "\n",
    "# Metrics to compute statistics for\n",
    "metrics = {\n",
    "    \"TCP Retransmission\": df[\"TCP Retransmission\"],\n",
    "    \"RTT\": df[\"RTT\"],\n",
    "    \"Throughput\": df[\"Throughput\"],\n",
    "}\n",
    "\n",
    "# Compute statistics for each metric\n",
    "statistics = {}\n",
    "for metric_name, metric_data in metrics.items():\n",
    "    statistics[metric_name] = compute_statistics(metric_data, metric_name)\n",
    "\n",
    "# Display results\n",
    "for metric, stats in statistics.items():\n",
    "    print(f\"\\n--- {metric} ---\")\n",
    "    for stat_name, values in stats.items():\n",
    "        print(f\"{stat_name}: {values}\")\n"
   ]
  },
  {
   "cell_type": "code",
   "execution_count": 16,
   "metadata": {},
   "outputs": [
    {
     "name": "stdout",
     "output_type": "stream",
     "text": [
      "Cluster Profiles:\n",
      "    Cluster  Avg_TCP_Retransmission     Avg_RTT  Avg_Throughput  User_Count\n",
      "0        0            2.571341e+07   42.804134     1979.270877       65038\n",
      "1        1            3.584048e+06   92.523105    24484.477197       45048\n",
      "2        2            2.547753e+07  131.686389     2890.301898       38849\n"
     ]
    }
   ],
   "source": [
    "\n",
    "# Select relevant metrics\n",
    "metrics = df[[\"TCP Retransmission\", \"RTT\", \"Throughput\"]]\n",
    "\n",
    "# Scale the metrics\n",
    "scaler = StandardScaler()\n",
    "metrics_scaled = scaler.fit_transform(metrics)\n",
    "\n",
    "# Run k-means clustering\n",
    "kmeans = KMeans(n_clusters=3, random_state=42)\n",
    "df[\"Cluster\"] = kmeans.fit_predict(metrics_scaled)\n",
    "\n",
    "# Profile each cluster\n",
    "cluster_profile = df.groupby(\"Cluster\").agg(\n",
    "    Avg_TCP_Retransmission=(\"TCP Retransmission\", \"mean\"),\n",
    "    Avg_RTT=(\"RTT\", \"mean\"),\n",
    "    Avg_Throughput=(\"Throughput\", \"mean\"),\n",
    "    User_Count=(\"MSISDN/Number\", \"count\"),\n",
    ").reset_index()\n",
    "\n",
    "# Print results\n",
    "print(\"Cluster Profiles:\\n\", cluster_profile)\n"
   ]
  },
  {
   "cell_type": "code",
   "execution_count": null,
   "metadata": {},
   "outputs": [],
   "source": []
  }
 ],
 "metadata": {
  "kernelspec": {
   "display_name": "base",
   "language": "python",
   "name": "python3"
  },
  "language_info": {
   "codemirror_mode": {
    "name": "ipython",
    "version": 3
   },
   "file_extension": ".py",
   "mimetype": "text/x-python",
   "name": "python",
   "nbconvert_exporter": "python",
   "pygments_lexer": "ipython3",
   "version": "3.12.7"
  }
 },
 "nbformat": 4,
 "nbformat_minor": 2
}
